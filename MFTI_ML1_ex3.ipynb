{
  "nbformat": 4,
  "nbformat_minor": 0,
  "metadata": {
    "colab": {
      "name": "MFTI_ML_ex3.ipynb",
      "provenance": [],
      "collapsed_sections": [],
      "authorship_tag": "ABX9TyMzGK9WNPh8chkfcpmZ9Qv5",
      "include_colab_link": true
    },
    "kernelspec": {
      "name": "python3",
      "display_name": "Python 3"
    }
  },
  "cells": [
    {
      "cell_type": "markdown",
      "metadata": {
        "id": "view-in-github",
        "colab_type": "text"
      },
      "source": [
        "<a href=\"https://colab.research.google.com/github/NicholayKurbatov/MPTI_course_ML/blob/master/MFTI_ML_ex3.ipynb\" target=\"_parent\"><img src=\"https://colab.research.google.com/assets/colab-badge.svg\" alt=\"Open In Colab\"/></a>"
      ]
    },
    {
      "cell_type": "code",
      "metadata": {
        "id": "oCouShtdZK9y"
      },
      "source": [
        ""
      ],
      "execution_count": null,
      "outputs": []
    },
    {
      "cell_type": "code",
      "metadata": {
        "id": "hibPqSJtQ-wZ",
        "outputId": "46e4b2a5-a499-4c39-b29e-ef727028a76b",
        "colab": {
          "base_uri": "https://localhost:8080/",
          "height": 136
        }
      },
      "source": [
        "import textwrap\n",
        "\n",
        "string, max_width = 'ABCDEFGHIJKLIMNOQRSTUVWXYZ', 4\n",
        "print(textwrap.fill(string, max_width))"
      ],
      "execution_count": null,
      "outputs": [
        {
          "output_type": "stream",
          "text": [
            "ABCD\n",
            "EFGH\n",
            "IJKL\n",
            "IMNO\n",
            "QRST\n",
            "UVWX\n",
            "YZ\n"
          ],
          "name": "stdout"
        }
      ]
    },
    {
      "cell_type": "code",
      "metadata": {
        "id": "sD7oFNN4N6kI",
        "outputId": "fbb5f67b-851e-48a2-dc22-4b6e3e73825a",
        "colab": {
          "base_uri": "https://localhost:8080/",
          "height": 459
        }
      },
      "source": [
        "thickness = int(input()) #This must be an odd number\n",
        "c = 'H'\n",
        "\n",
        "#Top Cone\n",
        "for i in range(thickness):\n",
        "    print((c*i).rjust(thickness-1)+c+(c*i).ljust(thickness-1))\n",
        "\n",
        "#Top Pillars\n",
        "for i in range(thickness+1):\n",
        "    print((c*thickness).center(thickness*2)+(c*thickness).center(thickness*6))\n",
        "\n",
        "#Middle Belt\n",
        "for i in range((thickness+1)//2):\n",
        "    print((c*thickness*5).center(thickness*6))    \n",
        "\n",
        "#Bottom Pillars\n",
        "for i in range(thickness+1):\n",
        "    print((c*thickness).center(thickness*2)+(c*thickness).center(thickness*6))    \n",
        "\n",
        "#Bottom Cone\n",
        "for i in range(thickness):\n",
        "    print(((c*(thickness-i-1)).rjust(thickness)+c+(c*(thickness-i-1)).ljust(thickness)).rjust(thickness*6))"
      ],
      "execution_count": null,
      "outputs": [
        {
          "output_type": "stream",
          "text": [
            "5\n",
            "    H    \n",
            "   HHH   \n",
            "  HHHHH  \n",
            " HHHHHHH \n",
            "HHHHHHHHH\n",
            "  HHHHH               HHHHH             \n",
            "  HHHHH               HHHHH             \n",
            "  HHHHH               HHHHH             \n",
            "  HHHHH               HHHHH             \n",
            "  HHHHH               HHHHH             \n",
            "  HHHHH               HHHHH             \n",
            "  HHHHHHHHHHHHHHHHHHHHHHHHH   \n",
            "  HHHHHHHHHHHHHHHHHHHHHHHHH   \n",
            "  HHHHHHHHHHHHHHHHHHHHHHHHH   \n",
            "  HHHHH               HHHHH             \n",
            "  HHHHH               HHHHH             \n",
            "  HHHHH               HHHHH             \n",
            "  HHHHH               HHHHH             \n",
            "  HHHHH               HHHHH             \n",
            "  HHHHH               HHHHH             \n",
            "                    HHHHHHHHH \n",
            "                     HHHHHHH  \n",
            "                      HHHHH   \n",
            "                       HHH    \n",
            "                        H     \n"
          ],
          "name": "stdout"
        }
      ]
    },
    {
      "cell_type": "code",
      "metadata": {
        "id": "ZJXv8mXkdFv4",
        "outputId": "87ff6bc9-e483-43b3-a0ab-7fa2f2f66c07",
        "colab": {
          "base_uri": "https://localhost:8080/",
          "height": 85
        }
      },
      "source": [
        "import time\n",
        "start_time = time.time()\n",
        "\n",
        "a, b = 'ABCDCDC  CDCDC', 'CDC'\n",
        "l_b = len(b)\n",
        "print(sum([1 for i in range(len(a)-l_b+1) if b in a[i:i+l_b]]))\n",
        "\n",
        "print(\"--- %s seconds ---\" % (time.time() - start_time))\n",
        "\n",
        "start_time = time.time()\n",
        "count = 0\n",
        "for i in range(len(a)):\n",
        "  if a[i:].startswith(b):\n",
        "    count += 1\n",
        "\n",
        "print(count)\n",
        "print(\"--- %s seconds ---\" % (time.time() - start_time))"
      ],
      "execution_count": null,
      "outputs": [
        {
          "output_type": "stream",
          "text": [
            "4\n",
            "--- 0.0002541542053222656 seconds ---\n",
            "4\n",
            "--- 0.0001373291015625 seconds ---\n"
          ],
          "name": "stdout"
        }
      ]
    },
    {
      "cell_type": "markdown",
      "metadata": {
        "id": "I9RQLc632DQe"
      },
      "source": [
        "#Проба аппроксимации"
      ]
    },
    {
      "cell_type": "code",
      "metadata": {
        "id": "oR2D2d24yqEy"
      },
      "source": [
        "import numpy as np\n",
        "from scipy.optimize import minimize, differential_evolution\n",
        "import matplotlib.pyplot as plt"
      ],
      "execution_count": null,
      "outputs": []
    },
    {
      "cell_type": "code",
      "metadata": {
        "id": "y91xGKuyycMX"
      },
      "source": [
        "X_set = np.array([10, 21, 32, 43, 54, 65, 76, 87, 98, 109])\n",
        "Y_set = 10**4*np.array([1.2591, 1.0203, 0.8702, 0.6776, 0.5594, 0.4096, 0.2851, 0.1797, 0.0968, 0.0210])\n",
        "\n",
        "def f(coef,X,Y):\n",
        "  return sum(( coef[1]/(coef[0] - coef[1])*coef[2]*(np.exp(-coef[1]*X) - np.exp(-coef[0]*X)) +\n",
        "              coef[2]*(np.exp(-coef[1]*X) + np.exp(-coef[0]*X)) - Y)**2)/len(X)\n",
        "\n",
        "def fuN():\n",
        "  coef[1]/(coef[0] - coef[1])*coef[2]*(np.exp(-coef[1]*X) - np.exp(-coef[0]*X)) + \n",
        "  coef[2]*(np.exp(-coef[1]*X) + np.exp(-coef[0]*X))"
      ],
      "execution_count": null,
      "outputs": []
    },
    {
      "cell_type": "code",
      "metadata": {
        "id": "lHwWSsgz3cPI",
        "outputId": "0b47630f-9d91-4996-829b-f2aa6681b172",
        "colab": {
          "base_uri": "https://localhost:8080/",
          "height": 34
        }
      },
      "source": [
        "f(x0,X_set,Y_set)"
      ],
      "execution_count": null,
      "outputs": [
        {
          "output_type": "execute_result",
          "data": {
            "text/plain": [
              "20648380.626777545"
            ]
          },
          "metadata": {
            "tags": []
          },
          "execution_count": 33
        }
      ]
    },
    {
      "cell_type": "code",
      "metadata": {
        "id": "dCsC1eR31_kj",
        "outputId": "9d6cc732-331d-4b46-85f4-0483f6578fcf",
        "colab": {
          "base_uri": "https://localhost:8080/",
          "height": 102
        }
      },
      "source": [
        "# setting the initial x value\n",
        "x0 = [(0.001,0.5), (0.001,0.5), (4000,8000)]\n",
        "# minimize f(x) by BFGS method\n",
        "m_c = differential_evolution(lambda coef: f(coef, X_set, Y_set), x0)\n",
        "print(\"l_b = %.2f, l_a = %.2f, I = %.2f\" % (m_c.x[0],m_c.x[1],m_c.x[2]))"
      ],
      "execution_count": null,
      "outputs": [
        {
          "output_type": "stream",
          "text": [
            "l_b = 0.03, l_a = 0.04, I = 7533.21\n"
          ],
          "name": "stdout"
        },
        {
          "output_type": "stream",
          "text": [
            "/usr/local/lib/python3.6/dist-packages/ipykernel_launcher.py:6: RuntimeWarning: divide by zero encountered in double_scalars\n",
            "  \n",
            "/usr/local/lib/python3.6/dist-packages/ipykernel_launcher.py:6: RuntimeWarning: invalid value encountered in multiply\n",
            "  \n"
          ],
          "name": "stderr"
        }
      ]
    },
    {
      "cell_type": "code",
      "metadata": {
        "id": "yfw-z91O8YdL"
      },
      "source": [
        "sum((f([m_c.x[0],m_c.x[1],m_c.x[2]], X_set, Y_set) - Y)**2)/"
      ],
      "execution_count": null,
      "outputs": []
    },
    {
      "cell_type": "markdown",
      "metadata": {
        "id": "TuaEg_O1U1q3"
      },
      "source": [
        "##Оптимизация гладкой функции (градиентным методом)"
      ]
    },
    {
      "cell_type": "code",
      "metadata": {
        "id": "baDaLSLCy8cP"
      },
      "source": [
        "# creating the minimum function\n",
        "def f(x):\n",
        "  return np.sin(x / 5) * np.exp(x / 10) + 5 * np.exp(-x / 2)"
      ],
      "execution_count": null,
      "outputs": []
    },
    {
      "cell_type": "code",
      "metadata": {
        "id": "GMtpTno_zuVg",
        "outputId": "713fac1f-1c72-42f1-fa3a-17ef33e23426",
        "colab": {
          "base_uri": "https://localhost:8080/",
          "height": 51
        }
      },
      "source": [
        "# setting the initial x value\n",
        "x0 = 2, 30\n",
        "# minimize f(x) by BFGS method\n",
        "min_f0 = minimize(f, x0[0], method = 'BFGS')\n",
        "min_f1 = minimize(f, x0[1], method = 'BFGS')\n",
        "print(\"f_min with initial x0 = %.f is f(%.2f) = %.2f \\n\" \\\n",
        "      \"f_min with initial x0 = %.f is f(%.2f) = %.2f\" \n",
        "      % (x0[0], min_f0.x, min_f0.fun, x0[1], min_f1.x, min_f1.fun))"
      ],
      "execution_count": null,
      "outputs": [
        {
          "output_type": "stream",
          "text": [
            "f_min with initial x0 = 2 is f(4.14) = 1.75 \n",
            "f_min with initial x0 = 30 is f(25.88) = -11.90\n"
          ],
          "name": "stdout"
        }
      ]
    },
    {
      "cell_type": "code",
      "metadata": {
        "id": "YwWSJPTOUGgc"
      },
      "source": [
        "# -*- coding: utf-8 -*-\n",
        "# create file submission_1\n",
        "my_file = open('submission_1.txt', 'w')\n",
        "# write the desired function value to it\n",
        "my_file.writelines(\" \".join(map(lambda x: \"%.2f\" % x, (min_f0.fun, min_f1.fun))))\n",
        "\n",
        "my_file.close()"
      ],
      "execution_count": null,
      "outputs": []
    },
    {
      "cell_type": "code",
      "metadata": {
        "id": "DUOxRNAsUv_7",
        "outputId": "0aa25266-57dd-4fc4-a596-10140b6ba2ab",
        "colab": {
          "base_uri": "https://localhost:8080/",
          "height": 269
        }
      },
      "source": [
        "x = np.linspace(1,31,num=10**3)\n",
        "fig = mpl.pyplot.figure()\n",
        "plt.plot(x, f(x), label='f(x)')\n",
        "plt.plot(min_f0.x, min_f0.fun, 'o', markeredgecolor='k', markerfacecolor='y', \n",
        "         label='min in x = %.2f' % min_f0.x)\n",
        "plt.plot(min_f1.x, min_f1.fun, 'o', markeredgecolor='k', markerfacecolor='y', \n",
        "         label='min in x = %.2f' % min_f1.x)\n",
        "plt.grid()\n",
        "plt.legend()\n",
        "plt.show()"
      ],
      "execution_count": null,
      "outputs": [
        {
          "output_type": "display_data",
          "data": {
            "image/png": "[encoded data removed]",
            "text/plain": [
              "<Figure size 432x288 with 1 Axes>"
            ]
          },
          "metadata": {
            "tags": [],
            "needs_background": "light"
          }
        }
      ]
    },
    {
      "cell_type": "markdown",
      "metadata": {
        "id": "VlyifcsWi4WL"
      },
      "source": [
        "##Оптимизация гладкой функции (методом дифференциальной эволюции)"
      ]
    },
    {
      "cell_type": "code",
      "metadata": {
        "id": "lXAyBZQgjFzt",
        "outputId": "977c31ea-2a0d-4d2e-8c07-d33006ef96d9",
        "colab": {
          "base_uri": "https://localhost:8080/",
          "height": 34
        }
      },
      "source": [
        "min_f_de = differential_evolution(f, [(1,30)])\n",
        "print(\"global minimum is f(%.2f) = %.2f\" % (min_f_de.x, min_f_de.fun))"
      ],
      "execution_count": null,
      "outputs": [
        {
          "output_type": "stream",
          "text": [
            "global minimum is f(25.88) = -11.90\n"
          ],
          "name": "stdout"
        }
      ]
    },
    {
      "cell_type": "code",
      "metadata": {
        "id": "LnRgbJuLmpkI"
      },
      "source": [
        "# create file submission_2\n",
        "my_file = open('submission_2.txt', 'w')\n",
        "# write the desired function value to it\n",
        "text_for_file = \"%.2f\" % min_f_de.fun\n",
        "my_file.write(text_for_file)\n",
        "\n",
        "my_file.close()"
      ],
      "execution_count": null,
      "outputs": []
    },
    {
      "cell_type": "markdown",
      "metadata": {
        "id": "le9fyg1-nuIh"
      },
      "source": [
        "##Оптимизация негладкой функции"
      ]
    },
    {
      "cell_type": "code",
      "metadata": {
        "id": "YyVCTgNlqqBs"
      },
      "source": [
        "# creating a non-smooth function int(f(x))\n",
        "def int_f(x):\n",
        "  return int(f(x))\n",
        "\n",
        "def pl_int_f(x):\n",
        "  return [int(f(x[j])) for j in range(len(x))]"
      ],
      "execution_count": null,
      "outputs": []
    },
    {
      "cell_type": "code",
      "metadata": {
        "id": "0qK7z_yjq2EA",
        "outputId": "d7abdbda-8727-40fb-cca3-33c969201b02",
        "colab": {
          "base_uri": "https://localhost:8080/",
          "height": 51
        }
      },
      "source": [
        "# the first method of minimization by the BFGS algorithm with initial x0 = 30\n",
        "min_intf = minimize(int_f, 30, method = 'BFGS')\n",
        "# the second method of minimization by the differential_evolution algorithm\n",
        "min_intf_de = differential_evolution(int_f, [(1,30)])\n",
        "\n",
        "print(\"minimum by BFGS is f(%.2f) = %.2f \\n\" \\\n",
        "      \"global minimum by DE is f(%.2f) = %.2f\"\n",
        "      % (min_intf.x, min_intf.fun, min_intf_de.x, min_intf_de.fun))\n",
        "\n",
        "# create file submission_3\n",
        "my_file = open('submission_3.txt', 'w')\n",
        "# write the desired function value to it\n",
        "my_file.writelines(\" \".join(map(lambda x: \"%.2f\" % x, (min_intf.fun, min_intf_de.fun))))\n",
        "\n",
        "my_file.close()"
      ],
      "execution_count": null,
      "outputs": [
        {
          "output_type": "stream",
          "text": [
            "minimum by BFGS is f(30.00) = -5.00 \n",
            "global minimum by DE is f(27.52) = -11.00\n"
          ],
          "name": "stdout"
        }
      ]
    },
    {
      "cell_type": "code",
      "metadata": {
        "id": "iuDwnw4FnyM2",
        "outputId": "c20f5cd5-06c1-47ca-9431-a22a6d16e16b",
        "colab": {
          "base_uri": "https://localhost:8080/",
          "height": 265
        }
      },
      "source": [
        "# plotting a non-smooth function int(f(x))\n",
        "x = np.linspace(1,31,num=10**3)\n",
        "fig = mpl.pyplot.figure()\n",
        "plt.plot(x, pl_int_f(x), label='f(x)')\n",
        "plt.plot(min_intf.x, min_intf.fun, 'o', markeredgecolor='k', markerfacecolor='y', \n",
        "         label='min in x = %.2f' % min_intf.x)\n",
        "plt.plot(min_intf_de.x, min_intf_de.fun, 'o', markeredgecolor='k', markerfacecolor='y', \n",
        "         label='min in x = %.2f' % min_intf_de.x)\n",
        "plt.grid(), plt.legend()\n",
        "plt.show()"
      ],
      "execution_count": null,
      "outputs": [
        {
          "output_type": "display_data",
          "data": {
            "image/png": "[encoded data removed]",
            "text/plain": [
              "<Figure size 432x288 with 1 Axes>"
            ]
          },
          "metadata": {
            "tags": [],
            "needs_background": "light"
          }
        }
      ]
    }
  ]
}
